{
 "cells": [
  {
   "cell_type": "markdown",
   "id": "216d2b1c",
   "metadata": {},
   "source": [
    "# Persiapan dataset gambar"
   ]
  },
  {
   "cell_type": "code",
   "execution_count": 1,
   "id": "cd8752f2",
   "metadata": {},
   "outputs": [
    {
     "name": "stdout",
     "output_type": "stream",
     "text": [
      "['malam', 'pagi']\n"
     ]
    }
   ],
   "source": [
    "import os, sys \n",
    "import warnings\n",
    "import random\n",
    "warnings.filterwarnings('ignore')\n",
    "#deklarasi path data gambar yang sudah dilakukan editing sebelumnya\n",
    "data_dir_list = os.listdir('edited/')\n",
    "#Cetak nama folder (class) yang ada\n",
    "print(data_dir_list)\n",
    "path, dirs, files = next(os.walk(\"edited/\"))\n",
    "file_count = len(files)"
   ]
  },
  {
   "cell_type": "code",
   "execution_count": 2,
   "id": "a0f29670",
   "metadata": {},
   "outputs": [],
   "source": [
    "datadir = \"edited/\""
   ]
  },
  {
   "cell_type": "code",
   "execution_count": 3,
   "id": "0178e3e9",
   "metadata": {},
   "outputs": [],
   "source": [
    "import pandas as pd\n",
    "from skimage.transform import resize\n",
    "from skimage.io import imread\n",
    "import numpy as np\n",
    "import matplotlib.pyplot as plt\n",
    "Categories=['pagi','malam']\n",
    "flat_data_arr=[] #input array\n",
    "target_arr=[] #output array"
   ]
  },
  {
   "cell_type": "code",
   "execution_count": 4,
   "id": "bc050cac",
   "metadata": {},
   "outputs": [
    {
     "name": "stdout",
     "output_type": "stream",
     "text": [
      "loading... category : pagi\n",
      "loaded category:pagi successfully\n",
      "loading... category : malam\n",
      "loaded category:malam successfully\n"
     ]
    },
    {
     "data": {
      "text/html": [
       "<div>\n",
       "<style scoped>\n",
       "    .dataframe tbody tr th:only-of-type {\n",
       "        vertical-align: middle;\n",
       "    }\n",
       "\n",
       "    .dataframe tbody tr th {\n",
       "        vertical-align: top;\n",
       "    }\n",
       "\n",
       "    .dataframe thead th {\n",
       "        text-align: right;\n",
       "    }\n",
       "</style>\n",
       "<table border=\"1\" class=\"dataframe\">\n",
       "  <thead>\n",
       "    <tr style=\"text-align: right;\">\n",
       "      <th></th>\n",
       "      <th>0</th>\n",
       "      <th>1</th>\n",
       "      <th>2</th>\n",
       "      <th>3</th>\n",
       "      <th>4</th>\n",
       "      <th>5</th>\n",
       "      <th>6</th>\n",
       "      <th>7</th>\n",
       "      <th>8</th>\n",
       "      <th>9</th>\n",
       "      <th>...</th>\n",
       "      <th>49143</th>\n",
       "      <th>49144</th>\n",
       "      <th>49145</th>\n",
       "      <th>49146</th>\n",
       "      <th>49147</th>\n",
       "      <th>49148</th>\n",
       "      <th>49149</th>\n",
       "      <th>49150</th>\n",
       "      <th>49151</th>\n",
       "      <th>Target</th>\n",
       "    </tr>\n",
       "  </thead>\n",
       "  <tbody>\n",
       "    <tr>\n",
       "      <th>0</th>\n",
       "      <td>0.000000</td>\n",
       "      <td>0.011765</td>\n",
       "      <td>0.007843</td>\n",
       "      <td>0.000000</td>\n",
       "      <td>0.011765</td>\n",
       "      <td>0.007843</td>\n",
       "      <td>0.000000</td>\n",
       "      <td>0.011765</td>\n",
       "      <td>0.007843</td>\n",
       "      <td>0.000000</td>\n",
       "      <td>...</td>\n",
       "      <td>0.054902</td>\n",
       "      <td>0.090196</td>\n",
       "      <td>0.086275</td>\n",
       "      <td>0.054902</td>\n",
       "      <td>0.090196</td>\n",
       "      <td>0.086275</td>\n",
       "      <td>0.054902</td>\n",
       "      <td>0.090196</td>\n",
       "      <td>0.086275</td>\n",
       "      <td>0</td>\n",
       "    </tr>\n",
       "    <tr>\n",
       "      <th>1</th>\n",
       "      <td>0.000000</td>\n",
       "      <td>0.015686</td>\n",
       "      <td>0.019608</td>\n",
       "      <td>0.000000</td>\n",
       "      <td>0.015686</td>\n",
       "      <td>0.019608</td>\n",
       "      <td>0.000000</td>\n",
       "      <td>0.015686</td>\n",
       "      <td>0.019608</td>\n",
       "      <td>0.000000</td>\n",
       "      <td>...</td>\n",
       "      <td>0.074510</td>\n",
       "      <td>0.121569</td>\n",
       "      <td>0.121569</td>\n",
       "      <td>0.074510</td>\n",
       "      <td>0.121569</td>\n",
       "      <td>0.121569</td>\n",
       "      <td>0.074510</td>\n",
       "      <td>0.121569</td>\n",
       "      <td>0.121569</td>\n",
       "      <td>0</td>\n",
       "    </tr>\n",
       "    <tr>\n",
       "      <th>2</th>\n",
       "      <td>0.007843</td>\n",
       "      <td>0.023529</td>\n",
       "      <td>0.035294</td>\n",
       "      <td>0.007843</td>\n",
       "      <td>0.023529</td>\n",
       "      <td>0.035294</td>\n",
       "      <td>0.007843</td>\n",
       "      <td>0.023529</td>\n",
       "      <td>0.035294</td>\n",
       "      <td>0.007843</td>\n",
       "      <td>...</td>\n",
       "      <td>0.074510</td>\n",
       "      <td>0.121569</td>\n",
       "      <td>0.121569</td>\n",
       "      <td>0.074510</td>\n",
       "      <td>0.121569</td>\n",
       "      <td>0.121569</td>\n",
       "      <td>0.078431</td>\n",
       "      <td>0.125490</td>\n",
       "      <td>0.125490</td>\n",
       "      <td>0</td>\n",
       "    </tr>\n",
       "    <tr>\n",
       "      <th>3</th>\n",
       "      <td>0.007843</td>\n",
       "      <td>0.027451</td>\n",
       "      <td>0.043137</td>\n",
       "      <td>0.007843</td>\n",
       "      <td>0.027451</td>\n",
       "      <td>0.043137</td>\n",
       "      <td>0.007843</td>\n",
       "      <td>0.027451</td>\n",
       "      <td>0.043137</td>\n",
       "      <td>0.007843</td>\n",
       "      <td>...</td>\n",
       "      <td>0.082353</td>\n",
       "      <td>0.129412</td>\n",
       "      <td>0.129412</td>\n",
       "      <td>0.082353</td>\n",
       "      <td>0.129412</td>\n",
       "      <td>0.129412</td>\n",
       "      <td>0.082353</td>\n",
       "      <td>0.129412</td>\n",
       "      <td>0.129412</td>\n",
       "      <td>0</td>\n",
       "    </tr>\n",
       "    <tr>\n",
       "      <th>4</th>\n",
       "      <td>0.007843</td>\n",
       "      <td>0.023529</td>\n",
       "      <td>0.058824</td>\n",
       "      <td>0.007843</td>\n",
       "      <td>0.023529</td>\n",
       "      <td>0.058824</td>\n",
       "      <td>0.007843</td>\n",
       "      <td>0.023529</td>\n",
       "      <td>0.058824</td>\n",
       "      <td>0.007843</td>\n",
       "      <td>...</td>\n",
       "      <td>0.086275</td>\n",
       "      <td>0.129412</td>\n",
       "      <td>0.137255</td>\n",
       "      <td>0.086275</td>\n",
       "      <td>0.129412</td>\n",
       "      <td>0.137255</td>\n",
       "      <td>0.086275</td>\n",
       "      <td>0.129412</td>\n",
       "      <td>0.137255</td>\n",
       "      <td>0</td>\n",
       "    </tr>\n",
       "    <tr>\n",
       "      <th>...</th>\n",
       "      <td>...</td>\n",
       "      <td>...</td>\n",
       "      <td>...</td>\n",
       "      <td>...</td>\n",
       "      <td>...</td>\n",
       "      <td>...</td>\n",
       "      <td>...</td>\n",
       "      <td>...</td>\n",
       "      <td>...</td>\n",
       "      <td>...</td>\n",
       "      <td>...</td>\n",
       "      <td>...</td>\n",
       "      <td>...</td>\n",
       "      <td>...</td>\n",
       "      <td>...</td>\n",
       "      <td>...</td>\n",
       "      <td>...</td>\n",
       "      <td>...</td>\n",
       "      <td>...</td>\n",
       "      <td>...</td>\n",
       "      <td>...</td>\n",
       "    </tr>\n",
       "    <tr>\n",
       "      <th>283</th>\n",
       "      <td>0.027451</td>\n",
       "      <td>0.050980</td>\n",
       "      <td>0.043137</td>\n",
       "      <td>0.027451</td>\n",
       "      <td>0.050980</td>\n",
       "      <td>0.043137</td>\n",
       "      <td>0.027451</td>\n",
       "      <td>0.050980</td>\n",
       "      <td>0.043137</td>\n",
       "      <td>0.027451</td>\n",
       "      <td>...</td>\n",
       "      <td>0.176471</td>\n",
       "      <td>0.231373</td>\n",
       "      <td>0.180392</td>\n",
       "      <td>0.176471</td>\n",
       "      <td>0.231373</td>\n",
       "      <td>0.180392</td>\n",
       "      <td>0.176471</td>\n",
       "      <td>0.231373</td>\n",
       "      <td>0.180392</td>\n",
       "      <td>1</td>\n",
       "    </tr>\n",
       "    <tr>\n",
       "      <th>284</th>\n",
       "      <td>0.027451</td>\n",
       "      <td>0.050980</td>\n",
       "      <td>0.043137</td>\n",
       "      <td>0.027451</td>\n",
       "      <td>0.050980</td>\n",
       "      <td>0.043137</td>\n",
       "      <td>0.027451</td>\n",
       "      <td>0.050980</td>\n",
       "      <td>0.043137</td>\n",
       "      <td>0.027451</td>\n",
       "      <td>...</td>\n",
       "      <td>0.180392</td>\n",
       "      <td>0.231373</td>\n",
       "      <td>0.203922</td>\n",
       "      <td>0.176471</td>\n",
       "      <td>0.227451</td>\n",
       "      <td>0.200000</td>\n",
       "      <td>0.172549</td>\n",
       "      <td>0.223529</td>\n",
       "      <td>0.196078</td>\n",
       "      <td>1</td>\n",
       "    </tr>\n",
       "    <tr>\n",
       "      <th>285</th>\n",
       "      <td>0.023529</td>\n",
       "      <td>0.047059</td>\n",
       "      <td>0.039216</td>\n",
       "      <td>0.023529</td>\n",
       "      <td>0.047059</td>\n",
       "      <td>0.039216</td>\n",
       "      <td>0.023529</td>\n",
       "      <td>0.047059</td>\n",
       "      <td>0.039216</td>\n",
       "      <td>0.027451</td>\n",
       "      <td>...</td>\n",
       "      <td>0.180392</td>\n",
       "      <td>0.231373</td>\n",
       "      <td>0.192157</td>\n",
       "      <td>0.176471</td>\n",
       "      <td>0.227451</td>\n",
       "      <td>0.188235</td>\n",
       "      <td>0.172549</td>\n",
       "      <td>0.223529</td>\n",
       "      <td>0.184314</td>\n",
       "      <td>1</td>\n",
       "    </tr>\n",
       "    <tr>\n",
       "      <th>286</th>\n",
       "      <td>0.027451</td>\n",
       "      <td>0.050980</td>\n",
       "      <td>0.043137</td>\n",
       "      <td>0.027451</td>\n",
       "      <td>0.050980</td>\n",
       "      <td>0.043137</td>\n",
       "      <td>0.027451</td>\n",
       "      <td>0.050980</td>\n",
       "      <td>0.043137</td>\n",
       "      <td>0.027451</td>\n",
       "      <td>...</td>\n",
       "      <td>0.180392</td>\n",
       "      <td>0.231373</td>\n",
       "      <td>0.192157</td>\n",
       "      <td>0.176471</td>\n",
       "      <td>0.227451</td>\n",
       "      <td>0.188235</td>\n",
       "      <td>0.176471</td>\n",
       "      <td>0.227451</td>\n",
       "      <td>0.188235</td>\n",
       "      <td>1</td>\n",
       "    </tr>\n",
       "    <tr>\n",
       "      <th>287</th>\n",
       "      <td>0.031373</td>\n",
       "      <td>0.054902</td>\n",
       "      <td>0.047059</td>\n",
       "      <td>0.031373</td>\n",
       "      <td>0.054902</td>\n",
       "      <td>0.047059</td>\n",
       "      <td>0.031373</td>\n",
       "      <td>0.054902</td>\n",
       "      <td>0.047059</td>\n",
       "      <td>0.031373</td>\n",
       "      <td>...</td>\n",
       "      <td>0.180392</td>\n",
       "      <td>0.231373</td>\n",
       "      <td>0.203922</td>\n",
       "      <td>0.180392</td>\n",
       "      <td>0.231373</td>\n",
       "      <td>0.203922</td>\n",
       "      <td>0.180392</td>\n",
       "      <td>0.231373</td>\n",
       "      <td>0.203922</td>\n",
       "      <td>1</td>\n",
       "    </tr>\n",
       "  </tbody>\n",
       "</table>\n",
       "<p>288 rows × 49153 columns</p>\n",
       "</div>"
      ],
      "text/plain": [
       "            0         1         2         3         4         5         6  \\\n",
       "0    0.000000  0.011765  0.007843  0.000000  0.011765  0.007843  0.000000   \n",
       "1    0.000000  0.015686  0.019608  0.000000  0.015686  0.019608  0.000000   \n",
       "2    0.007843  0.023529  0.035294  0.007843  0.023529  0.035294  0.007843   \n",
       "3    0.007843  0.027451  0.043137  0.007843  0.027451  0.043137  0.007843   \n",
       "4    0.007843  0.023529  0.058824  0.007843  0.023529  0.058824  0.007843   \n",
       "..        ...       ...       ...       ...       ...       ...       ...   \n",
       "283  0.027451  0.050980  0.043137  0.027451  0.050980  0.043137  0.027451   \n",
       "284  0.027451  0.050980  0.043137  0.027451  0.050980  0.043137  0.027451   \n",
       "285  0.023529  0.047059  0.039216  0.023529  0.047059  0.039216  0.023529   \n",
       "286  0.027451  0.050980  0.043137  0.027451  0.050980  0.043137  0.027451   \n",
       "287  0.031373  0.054902  0.047059  0.031373  0.054902  0.047059  0.031373   \n",
       "\n",
       "            7         8         9  ...     49143     49144     49145  \\\n",
       "0    0.011765  0.007843  0.000000  ...  0.054902  0.090196  0.086275   \n",
       "1    0.015686  0.019608  0.000000  ...  0.074510  0.121569  0.121569   \n",
       "2    0.023529  0.035294  0.007843  ...  0.074510  0.121569  0.121569   \n",
       "3    0.027451  0.043137  0.007843  ...  0.082353  0.129412  0.129412   \n",
       "4    0.023529  0.058824  0.007843  ...  0.086275  0.129412  0.137255   \n",
       "..        ...       ...       ...  ...       ...       ...       ...   \n",
       "283  0.050980  0.043137  0.027451  ...  0.176471  0.231373  0.180392   \n",
       "284  0.050980  0.043137  0.027451  ...  0.180392  0.231373  0.203922   \n",
       "285  0.047059  0.039216  0.027451  ...  0.180392  0.231373  0.192157   \n",
       "286  0.050980  0.043137  0.027451  ...  0.180392  0.231373  0.192157   \n",
       "287  0.054902  0.047059  0.031373  ...  0.180392  0.231373  0.203922   \n",
       "\n",
       "        49146     49147     49148     49149     49150     49151  Target  \n",
       "0    0.054902  0.090196  0.086275  0.054902  0.090196  0.086275       0  \n",
       "1    0.074510  0.121569  0.121569  0.074510  0.121569  0.121569       0  \n",
       "2    0.074510  0.121569  0.121569  0.078431  0.125490  0.125490       0  \n",
       "3    0.082353  0.129412  0.129412  0.082353  0.129412  0.129412       0  \n",
       "4    0.086275  0.129412  0.137255  0.086275  0.129412  0.137255       0  \n",
       "..        ...       ...       ...       ...       ...       ...     ...  \n",
       "283  0.176471  0.231373  0.180392  0.176471  0.231373  0.180392       1  \n",
       "284  0.176471  0.227451  0.200000  0.172549  0.223529  0.196078       1  \n",
       "285  0.176471  0.227451  0.188235  0.172549  0.223529  0.184314       1  \n",
       "286  0.176471  0.227451  0.188235  0.176471  0.227451  0.188235       1  \n",
       "287  0.180392  0.231373  0.203922  0.180392  0.231373  0.203922       1  \n",
       "\n",
       "[288 rows x 49153 columns]"
      ]
     },
     "execution_count": 4,
     "metadata": {},
     "output_type": "execute_result"
    }
   ],
   "source": [
    "#path which contains all the categories of images\n",
    "for i in Categories:\n",
    "    print(f'loading... category : {i}')\n",
    "    path=os.path.join(datadir,i)\n",
    "    for img in os.listdir(path):\n",
    "        img_array=imread(os.path.join(path,img))\n",
    "        img_resized=resize(img_array,(128,128,3))\n",
    "        flat_data_arr.append(img_resized.flatten())\n",
    "        target_arr.append(Categories.index(i))\n",
    "    print(f'loaded category:{i} successfully')\n",
    "flat_data=np.array(flat_data_arr)\n",
    "target=np.array(target_arr)\n",
    "df=pd.DataFrame(flat_data) #dataframe\n",
    "df['Target']=target\n",
    "x=df.iloc[:,:-1] #input data \n",
    "y=df.iloc[:,-1] #output data\n",
    "df\n"
   ]
  },
  {
   "cell_type": "code",
   "execution_count": 9,
   "id": "3b8dfd02",
   "metadata": {},
   "outputs": [
    {
     "data": {
      "text/plain": [
       "pandas.core.series.Series"
      ]
     },
     "execution_count": 9,
     "metadata": {},
     "output_type": "execute_result"
    }
   ],
   "source": [
    "type(y)"
   ]
  },
  {
   "cell_type": "code",
   "execution_count": 8,
   "id": "ea561907",
   "metadata": {},
   "outputs": [
    {
     "name": "stdout",
     "output_type": "stream",
     "text": [
      "Gambar malam ada : 142\n",
      "Gambar pagi ada : 146\n"
     ]
    }
   ],
   "source": [
    "#Menampilkan jumlah data gambar\n",
    "for i in ['malam', 'pagi']:\n",
    "    print('Gambar {} ada : '.format(i)+str(len(os.listdir(datadir+i+'/'))))"
   ]
  },
  {
   "cell_type": "markdown",
   "id": "9e3da2b9",
   "metadata": {},
   "source": [
    "Image Classification with SVM"
   ]
  },
  {
   "cell_type": "code",
   "execution_count": 11,
   "id": "8daafcaa",
   "metadata": {},
   "outputs": [],
   "source": [
    "from sklearn import svm\n",
    "from sklearn.model_selection import GridSearchCV\n",
    "param_grid={'C':[1,10,100,1000],'gamma':[0.0001,0.001,0.1],'kernel':['rbf']}\n",
    "svc=svm.SVC(probability=True)\n",
    "model=GridSearchCV(svc,param_grid,verbose=1)"
   ]
  },
  {
   "cell_type": "code",
   "execution_count": 12,
   "id": "0df2933e",
   "metadata": {},
   "outputs": [
    {
     "name": "stdout",
     "output_type": "stream",
     "text": [
      "Splitted Successfully\n"
     ]
    }
   ],
   "source": [
    "from sklearn.model_selection import train_test_split\n",
    "from sklearn import preprocessing\n",
    "\n",
    "x_train,x_test,y_train,y_test=train_test_split(x,y,test_size=0.20,random_state=77,stratify=y)\n",
    "\n",
    "print('Splitted Successfully')"
   ]
  },
  {
   "cell_type": "code",
   "execution_count": 14,
   "id": "353ee80a",
   "metadata": {},
   "outputs": [
    {
     "name": "stdout",
     "output_type": "stream",
     "text": [
      "Fitting 5 folds for each of 12 candidates, totalling 60 fits\n",
      "The Model is trained well with the given images\n"
     ]
    },
    {
     "data": {
      "text/plain": [
       "{'C': 1000, 'gamma': 0.001, 'kernel': 'rbf'}"
      ]
     },
     "execution_count": 14,
     "metadata": {},
     "output_type": "execute_result"
    }
   ],
   "source": [
    "model.fit(x_train, y_train)\n",
    "print('The Model is trained well with the given images')\n",
    "model.best_params_ # contains the best parameters obtained from GridSearchCV"
   ]
  },
  {
   "cell_type": "code",
   "execution_count": 15,
   "id": "37a11ca7",
   "metadata": {},
   "outputs": [
    {
     "name": "stdout",
     "output_type": "stream",
     "text": [
      "The predicted Data is :\n",
      "[0 1 0 1 1 1 0 1 0 1 0 0 0 0 1 1 1 0 0 0 0 0 1 1 0 0 1 1 1 1 1 1 0 0 0 1 0\n",
      " 1 0 0 1 1 1 1 0 0 0 0 1 1 1 1 1 0 1 1 0 1]\n",
      "The actual data is:\n",
      "[0 1 0 1 1 1 0 1 0 1 0 0 0 0 1 1 1 0 0 0 0 0 1 1 0 0 1 1 1 1 0 1 0 0 0 1 0\n",
      " 1 0 0 0 1 1 1 0 0 0 0 1 1 1 1 1 0 1 1 0 1]\n",
      "The model is 96.55172413793103% accurate\n"
     ]
    }
   ],
   "source": [
    "from sklearn.metrics import accuracy_score\n",
    "y_pred=model.predict(x_test)\n",
    "print(\"The predicted Data is :\")\n",
    "print(y_pred)\n",
    "print(\"The actual data is:\")\n",
    "print(np.array(y_test))\n",
    "print(f\"The model is {accuracy_score(y_pred,y_test)*100}% accurate\")"
   ]
  },
  {
   "cell_type": "code",
   "execution_count": 16,
   "id": "39ce7e82",
   "metadata": {},
   "outputs": [],
   "source": [
    "import pickle\n",
    "\n",
    "filename = \"model.pkl\"\n",
    "with open(filename, 'wb') as file:\n",
    "    pickle.dump(filename, file)\n",
    "    file.close()"
   ]
  },
  {
   "cell_type": "code",
   "execution_count": 20,
   "id": "7fe1e6ca",
   "metadata": {},
   "outputs": [
    {
     "data": {
      "image/png": "[encoded data removed]",
      "text/plain": [
       "<Figure size 640x480 with 1 Axes>"
      ]
     },
     "metadata": {},
     "output_type": "display_data"
    },
    {
     "name": "stdout",
     "output_type": "stream",
     "text": [
      "pagi = 99.97194863738555%\n",
      "malam = 0.02805136261442996%\n",
      "The predicted image is : pagi\n"
     ]
    }
   ],
   "source": [
    "url=input('Enter URL of Image :')\n",
    "img=imread(url)\n",
    "plt.imshow(img)\n",
    "plt.show()\n",
    "img_resize=resize(img,(128,128,3))\n",
    "l=[img_resize.flatten()]\n",
    "probability=model.predict_proba(l)\n",
    "for ind,val in enumerate(Categories):\n",
    "    print(f'{val} = {probability[0][ind]*100}%')\n",
    "print(\"The predicted image is : \" + Categories[model.predict(l)[0]])"
   ]
  }
 ],
 "metadata": {
  "kernelspec": {
   "display_name": "Python 3 (ipykernel)",
   "language": "python",
   "name": "python3"
  },
  "language_info": {
   "codemirror_mode": {
    "name": "ipython",
    "version": 3
   },
   "file_extension": ".py",
   "mimetype": "text/x-python",
   "name": "python",
   "nbconvert_exporter": "python",
   "pygments_lexer": "ipython3",
   "version": "3.8.0"
  },
  "vscode": {
   "interpreter": {
    "hash": "066cb4723f49e5794ab907980798068422f997681e65c97af2035577de0aa533"
   }
  }
 },
 "nbformat": 4,
 "nbformat_minor": 5
}
