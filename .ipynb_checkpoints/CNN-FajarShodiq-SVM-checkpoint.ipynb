{
 "cells": [
  {
   "cell_type": "markdown",
   "id": "216d2b1c",
   "metadata": {},
   "source": [
    "# Persiapan dataset gambar"
   ]
  },
  {
   "cell_type": "code",
   "execution_count": 1,
   "id": "cd8752f2",
   "metadata": {},
   "outputs": [
    {
     "name": "stdout",
     "output_type": "stream",
     "text": [
      "['malam', 'pagi']\n"
     ]
    }
   ],
   "source": [
    "import os, sys \n",
    "import warnings\n",
    "warnings.filterwarnings('ignore')\n",
    "#deklarasi path data gambar yang sudah dilakukan editing sebelumnya\n",
    "data_dir_list = os.listdir('edited/')\n",
    "#Cetak nama folder (class) yang ada\n",
    "print(data_dir_list)\n",
    "path, dirs, files = next(os.walk(\"edited/\"))\n",
    "file_count = len(files)"
   ]
  },
  {
   "cell_type": "code",
   "execution_count": 2,
   "id": "478edf38",
   "metadata": {},
   "outputs": [],
   "source": [
    "# Membuat direktori dasar yang baru bernama data fajar\n",
    "original_dataset_dir = 'edited/'\n",
    "base_dir = 'data-fajar/'\n",
    "os.mkdir(base_dir)"
   ]
  },
  {
   "cell_type": "code",
   "execution_count": 3,
   "id": "c7a59810",
   "metadata": {},
   "outputs": [],
   "source": [
    "#Membuat dua folder (train dan validation)\n",
    "train_dir = os.path.join(base_dir, 'train')\n",
    "os.mkdir(train_dir)\n",
    "validation_dir = os.path.join(base_dir, 'validation')\n",
    "os.mkdir(validation_dir)\n",
    "\n",
    "#Di dalam folder train membuat 2 folder (pagi dan malam)\n",
    "train_dir_pagi = os.path.join(train_dir, 'pagi')\n",
    "os.mkdir(train_dir_pagi)\n",
    "train_dir_malam = os.path.join(train_dir, 'malam')\n",
    "os.mkdir(train_dir_malam)\n",
    "\n",
    "#Di dalam folder validation membuat 2 folder (pagi dan malam)\n",
    "validation_dir_pagi = os.path.join(validation_dir, 'pagi')\n",
    "os.mkdir(validation_dir_pagi)\n",
    "validation_dir_malam = os.path.join(validation_dir, 'malam')\n",
    "os.mkdir(validation_dir_malam)"
   ]
  },
  {
   "cell_type": "code",
   "execution_count": 4,
   "id": "04aadfa3",
   "metadata": {},
   "outputs": [],
   "source": [
    "#Membuat fungsi split data untuk membagi data gambar yang ada menjadi 2 bagian, untuk training dan validation\n",
    "def split_data(SOURCE, TRAINING, VALIDATION, SPLIT_SIZE):\n",
    "    files = []\n",
    "    for filename in os.listdir(SOURCE):\n",
    "        file = SOURCE + filename\n",
    "        if os.path.getsize(file) > 0:\n",
    "            files.append(filename)\n",
    "        else:\n",
    "            print(filename + \" ternyata kosong, maka diabaikan.\")\n",
    "\n",
    "    training_length = int(len(files) * SPLIT_SIZE)\n",
    "    valid_length = int(len(files) - training_length)\n",
    "    shuffled_set = random.sample(files, len(files))\n",
    "    training_set = shuffled_set[0:training_length]\n",
    "    valid_set = shuffled_set[training_length:]\n",
    "\n",
    "    for filename in training_set:\n",
    "        this_file = SOURCE + filename\n",
    "        destination = TRAINING + filename\n",
    "        copyfile(this_file, destination)\n",
    "\n",
    "    for filename in valid_set:\n",
    "        this_file = SOURCE + filename\n",
    "        destination = VALIDATION + filename\n",
    "        copyfile(this_file, destination)"
   ]
  },
  {
   "cell_type": "code",
   "execution_count": 5,
   "id": "8811aa56",
   "metadata": {},
   "outputs": [],
   "source": [
    "#Penentuan direktori training dan validation\n",
    "#Deklarasi direktori sumber dan direktori dasar untuk class pagi (subuh)\n",
    "SOURCE_DIR_PAGI = 'edited/pagi/'\n",
    "TRAINING_DIR_PAGI = 'data-fajar/train/pagi/'\n",
    "VALID_DIR_PAGI = 'data-fajar/validation/pagi/'\n",
    "\n",
    "#Deklarasi direktori sumber dan direktori dasar untuk class malam (belum subuh) \n",
    "SOURCE_DIR_MALAM = 'edited/malam/'\n",
    "TRAINING_DIR_MALAM = 'data-fajar/train/malam/'\n",
    "VALID_DIR_MALAM = 'data-fajar/validation/malam/'"
   ]
  },
  {
   "cell_type": "code",
   "execution_count": 6,
   "id": "0178e3e9",
   "metadata": {},
   "outputs": [],
   "source": [
    "import os\n",
    "import random\n",
    "from shutil import copyfile\n",
    "\n",
    "#Data training adalah 85% dan data validation 15%\n",
    "split_size = .85\n",
    "\n",
    "#Pemanggilan fungsi split untuk melakukan split data\n",
    "split_data(SOURCE_DIR_PAGI, TRAINING_DIR_PAGI, VALID_DIR_PAGI, split_size)\n",
    "split_data(SOURCE_DIR_MALAM, TRAINING_DIR_MALAM, VALID_DIR_MALAM, split_size)"
   ]
  },
  {
   "cell_type": "code",
   "execution_count": 7,
   "id": "bc050cac",
   "metadata": {},
   "outputs": [
    {
     "data": {
      "image/png": "[encoded data removed]",
      "text/plain": [
       "<Figure size 648x432 with 1 Axes>"
      ]
     },
     "metadata": {
      "needs_background": "light"
     },
     "output_type": "display_data"
    }
   ],
   "source": [
    "#Menampilkan grafik class data training\n",
    "import matplotlib.pyplot as plt\n",
    "import seaborn as sns\n",
    "from matplotlib.image import imread\n",
    "import pathlib\n",
    "\n",
    "image_folder = ['malam', 'pagi']\n",
    "nimgs = {}\n",
    "for i in image_folder:\n",
    "    nimages = len(os.listdir('data-fajar/train/'+i+'/'))\n",
    "    nimgs[i]=nimages\n",
    "plt.figure(figsize=(9, 6))\n",
    "plt.bar(range(len(nimgs)), list(nimgs.values()), align='center')\n",
    "plt.xticks(range(len(nimgs)), list(nimgs.keys()))\n",
    "plt.title('Distribusi class dalam training dataset')\n",
    "plt.show()"
   ]
  },
  {
   "cell_type": "code",
   "execution_count": 8,
   "id": "16429281",
   "metadata": {},
   "outputs": [
    {
     "name": "stdout",
     "output_type": "stream",
     "text": [
      "Gambar training malam ada : 120\n",
      "Gambar training pagi ada : 124\n"
     ]
    }
   ],
   "source": [
    "#Menampilkan jumlah data training\n",
    "for i in ['malam', 'pagi']:\n",
    "    print('Gambar training {} ada : '.format(i)+str(len(os.listdir('data-fajar/train/'+i+'/'))))"
   ]
  },
  {
   "cell_type": "code",
   "execution_count": 9,
   "id": "04386ab3",
   "metadata": {},
   "outputs": [
    {
     "data": {
      "image/png": "[encoded data removed]",
      "text/plain": [
       "<Figure size 648x432 with 1 Axes>"
      ]
     },
     "metadata": {
      "needs_background": "light"
     },
     "output_type": "display_data"
    }
   ],
   "source": [
    "#Menampilkan grafik class data validation\n",
    "image_folder = ['malam', 'pagi']\n",
    "nimgs = {}\n",
    "for i in image_folder:\n",
    "    nimages = len(os.listdir('data-fajar/validation/'+i+'/'))\n",
    "    nimgs[i]=nimages\n",
    "plt.figure(figsize=(9, 6))\n",
    "plt.bar(range(len(nimgs)), list(nimgs.values()), align='center')\n",
    "plt.xticks(range(len(nimgs)), list(nimgs.keys()))\n",
    "plt.title('Distribusi class dalam Validation Dataset')\n",
    "plt.show()"
   ]
  },
  {
   "cell_type": "code",
   "execution_count": 10,
   "id": "ea561907",
   "metadata": {},
   "outputs": [
    {
     "name": "stdout",
     "output_type": "stream",
     "text": [
      "Gambar validasi malam ada : 22\n",
      "Gambar validasi pagi ada : 22\n"
     ]
    }
   ],
   "source": [
    "#Menampilkan jumlah data validation\n",
    "for i in ['malam', 'pagi']:\n",
    "    print('Gambar validasi {} ada : '.format(i)+str(len(os.listdir('data-fajar/validation/'+i+'/'))))"
   ]
  },
  {
   "cell_type": "markdown",
   "id": "10d2d7d1",
   "metadata": {},
   "source": [
    "# Deep Learning dengan Data Augumentation"
   ]
  },
  {
   "cell_type": "code",
   "execution_count": 11,
   "id": "4672f559",
   "metadata": {},
   "outputs": [],
   "source": [
    "#Import class-class dalam library tensorflow\n",
    "from tensorflow.keras.optimizers import Adam\n",
    "from tensorflow.keras.preprocessing.image import ImageDataGenerator, DirectoryIterator\n",
    "from tensorflow.keras.layers import Conv2D, MaxPooling2D, Flatten, Dense, Dropout, Activation\n",
    "from tensorflow.keras.models import Sequential\n",
    "from tensorflow.keras.callbacks import EarlyStopping, ModelCheckpoint"
   ]
  },
  {
   "cell_type": "code",
   "execution_count": 12,
   "id": "10a20cb7",
   "metadata": {},
   "outputs": [],
   "source": [
    "#Menentukan ukuran gambar yang dijadikan acuan untuk proses convolusi\n",
    "img_width=128; img_height=128"
   ]
  },
  {
   "cell_type": "code",
   "execution_count": 13,
   "id": "ebacdc65",
   "metadata": {},
   "outputs": [
    {
     "name": "stdout",
     "output_type": "stream",
     "text": [
      "Found 244 images belonging to 2 classes.\n"
     ]
    }
   ],
   "source": [
    "#Augmentasi untuk data training (preprocessing)\n",
    "TRAINING_DIR = 'data-fajar/train/'\n",
    "\n",
    "train_datagen = ImageDataGenerator(rescale = 1/255.0,\n",
    "                                   horizontal_flip=True)\n",
    "\n",
    "train_generator = train_datagen.flow_from_directory(TRAINING_DIR,\n",
    "                                                    batch_size=32,\n",
    "                                                    class_mode='categorical',\n",
    "                                                    target_size=(img_height, img_width))"
   ]
  },
  {
   "cell_type": "code",
   "execution_count": 14,
   "id": "b39a1b58",
   "metadata": {},
   "outputs": [
    {
     "name": "stdout",
     "output_type": "stream",
     "text": [
      "Found 44 images belonging to 2 classes.\n"
     ]
    }
   ],
   "source": [
    "#Augmentasi untuk data validation (preprocessing)\n",
    "VALIDATION_DIR = 'data-fajar/validation/'\n",
    "\n",
    "validation_datagen = ImageDataGenerator(rescale = 1/255.0)\n",
    "validation_generator = validation_datagen.flow_from_directory(VALIDATION_DIR,\n",
    "                                                              batch_size=32,\n",
    "                                                              class_mode='categorical',\n",
    "                                                              target_size=(img_height, img_width)\n",
    "                                                             )"
   ]
  },
  {
   "cell_type": "code",
   "execution_count": 15,
   "id": "dc182ffc",
   "metadata": {},
   "outputs": [],
   "source": [
    "# Menyimpan otomatis model terbaik\n",
    "callbacks = EarlyStopping(monitor='val_loss', patience=5, verbose=1, mode='auto')\n",
    "best_model_file = 'CNN_aug_best_weights.h5'\n",
    "best_model = ModelCheckpoint(best_model_file, monitor='val_accuracy', verbose = 1, save_best_only = True)"
   ]
  },
  {
   "cell_type": "code",
   "execution_count": 16,
   "id": "a54e3d19",
   "metadata": {},
   "outputs": [
    {
     "name": "stdout",
     "output_type": "stream",
     "text": [
      "Model: \"sequential\"\n",
      "_________________________________________________________________\n",
      "Layer (type)                 Output Shape              Param #   \n",
      "=================================================================\n",
      "conv2d (Conv2D)              (None, 128, 128, 32)      896       \n",
      "_________________________________________________________________\n",
      "conv2d_1 (Conv2D)            (None, 126, 126, 32)      9248      \n",
      "_________________________________________________________________\n",
      "max_pooling2d (MaxPooling2D) (None, 63, 63, 32)        0         \n",
      "_________________________________________________________________\n",
      "dropout (Dropout)            (None, 63, 63, 32)        0         \n",
      "_________________________________________________________________\n",
      "conv2d_2 (Conv2D)            (None, 63, 63, 64)        18496     \n",
      "_________________________________________________________________\n",
      "conv2d_3 (Conv2D)            (None, 61, 61, 64)        36928     \n",
      "_________________________________________________________________\n",
      "max_pooling2d_1 (MaxPooling2 (None, 30, 30, 64)        0         \n",
      "_________________________________________________________________\n",
      "dropout_1 (Dropout)          (None, 30, 30, 64)        0         \n",
      "_________________________________________________________________\n",
      "conv2d_4 (Conv2D)            (None, 30, 30, 128)       73856     \n",
      "_________________________________________________________________\n",
      "conv2d_5 (Conv2D)            (None, 28, 28, 128)       147584    \n",
      "_________________________________________________________________\n",
      "activation (Activation)      (None, 28, 28, 128)       0         \n",
      "_________________________________________________________________\n",
      "max_pooling2d_2 (MaxPooling2 (None, 14, 14, 128)       0         \n",
      "_________________________________________________________________\n",
      "dropout_2 (Dropout)          (None, 14, 14, 128)       0         \n",
      "_________________________________________________________________\n",
      "flatten (Flatten)            (None, 25088)             0         \n",
      "_________________________________________________________________\n",
      "dense (Dense)                (None, 1024)              25691136  \n",
      "_________________________________________________________________\n",
      "dropout_3 (Dropout)          (None, 1024)              0         \n",
      "_________________________________________________________________\n",
      "dense_1 (Dense)              (None, 2)                 2050      \n",
      "=================================================================\n",
      "Total params: 25,980,194\n",
      "Trainable params: 25,980,194\n",
      "Non-trainable params: 0\n",
      "_________________________________________________________________\n"
     ]
    }
   ],
   "source": [
    "#Pembuatan model/arsitektur Convolutional Neural Network (CNN)\n",
    "model = Sequential()\n",
    "\n",
    "#### Input Layer ####\n",
    "model.add(Conv2D(filters=32, kernel_size=(3,3), padding='same', activation='relu', input_shape=(128, 128, 3)))\n",
    "\n",
    "#### Convolutional Layers ####\n",
    "model.add(Conv2D(32, (3,3), activation='relu'))\n",
    "model.add(MaxPooling2D((2,2)))  # Pooling\n",
    "model.add(Dropout(0.2)) # Dropout\n",
    "\n",
    "model.add(Conv2D(64, (3,3), padding='same', activation='relu'))\n",
    "model.add(Conv2D(64, (3,3), activation='relu'))\n",
    "model.add(MaxPooling2D((2,2)))\n",
    "model.add(Dropout(0.2))\n",
    "\n",
    "model.add(Conv2D(128, (3,3), padding='same', activation='relu'))\n",
    "model.add(Conv2D(128, (3,3), activation='relu'))\n",
    "model.add(Activation('relu'))\n",
    "model.add(MaxPooling2D((2,2)))\n",
    "model.add(Dropout(0.2))\n",
    "\n",
    "#### Fully-Connected Layer ####\n",
    "model.add(Flatten())\n",
    "model.add(Dense(1024, activation='relu'))\n",
    "model.add(Dropout(0.2))\n",
    "model.add(Dense(2, activation='softmax'))\n",
    "\n",
    "model.summary() # inspek model"
   ]
  },
  {
   "cell_type": "code",
   "execution_count": 17,
   "id": "c3ba0190",
   "metadata": {},
   "outputs": [],
   "source": [
    "#Kompilasi model\n",
    "model.compile(optimizer='Adam', \n",
    "              loss='categorical_crossentropy', \n",
    "              metrics =['accuracy'])"
   ]
  },
  {
   "cell_type": "code",
   "execution_count": 18,
   "id": "48f24616",
   "metadata": {},
   "outputs": [
    {
     "name": "stdout",
     "output_type": "stream",
     "text": [
      "Epoch 1/50\n",
      "8/8 [==============================] - 19s 986ms/step - loss: 0.7338 - accuracy: 0.5123 - val_loss: 0.6882 - val_accuracy: 0.6364\n",
      "\n",
      "Epoch 00001: val_accuracy improved from -inf to 0.63636, saving model to CNN_aug_best_weights.h5\n",
      "Epoch 2/50\n",
      "8/8 [==============================] - 3s 303ms/step - loss: 0.6368 - accuracy: 0.6844 - val_loss: 0.6543 - val_accuracy: 0.5909\n",
      "\n",
      "Epoch 00002: val_accuracy did not improve from 0.63636\n",
      "Epoch 3/50\n",
      "8/8 [==============================] - 2s 303ms/step - loss: 0.5136 - accuracy: 0.7541 - val_loss: 0.6483 - val_accuracy: 0.7273\n",
      "\n",
      "Epoch 00003: val_accuracy improved from 0.63636 to 0.72727, saving model to CNN_aug_best_weights.h5\n",
      "Epoch 4/50\n",
      "8/8 [==============================] - 3s 304ms/step - loss: 0.5147 - accuracy: 0.7746 - val_loss: 0.5294 - val_accuracy: 0.8409\n",
      "\n",
      "Epoch 00004: val_accuracy improved from 0.72727 to 0.84091, saving model to CNN_aug_best_weights.h5\n",
      "Epoch 5/50\n",
      "8/8 [==============================] - 3s 303ms/step - loss: 0.4182 - accuracy: 0.8033 - val_loss: 0.5463 - val_accuracy: 0.7727\n",
      "\n",
      "Epoch 00005: val_accuracy did not improve from 0.84091\n",
      "Epoch 6/50\n",
      "8/8 [==============================] - 2s 303ms/step - loss: 0.5157 - accuracy: 0.7746 - val_loss: 0.6300 - val_accuracy: 0.5909\n",
      "\n",
      "Epoch 00006: val_accuracy did not improve from 0.84091\n",
      "Epoch 7/50\n",
      "8/8 [==============================] - 2s 309ms/step - loss: 0.4527 - accuracy: 0.7664 - val_loss: 0.3256 - val_accuracy: 0.8636\n",
      "\n",
      "Epoch 00007: val_accuracy improved from 0.84091 to 0.86364, saving model to CNN_aug_best_weights.h5\n",
      "Epoch 8/50\n",
      "8/8 [==============================] - 3s 313ms/step - loss: 0.3703 - accuracy: 0.8279 - val_loss: 0.3552 - val_accuracy: 0.8182\n",
      "\n",
      "Epoch 00008: val_accuracy did not improve from 0.86364\n",
      "Epoch 9/50\n",
      "8/8 [==============================] - 2s 303ms/step - loss: 0.4235 - accuracy: 0.8033 - val_loss: 0.3132 - val_accuracy: 0.8182\n",
      "\n",
      "Epoch 00009: val_accuracy did not improve from 0.86364\n",
      "Epoch 10/50\n",
      "8/8 [==============================] - 2s 305ms/step - loss: 0.3703 - accuracy: 0.8361 - val_loss: 0.3907 - val_accuracy: 0.8864\n",
      "\n",
      "Epoch 00010: val_accuracy improved from 0.86364 to 0.88636, saving model to CNN_aug_best_weights.h5\n",
      "Epoch 11/50\n",
      "8/8 [==============================] - 3s 304ms/step - loss: 0.3326 - accuracy: 0.8402 - val_loss: 0.1643 - val_accuracy: 0.9318\n",
      "\n",
      "Epoch 00011: val_accuracy improved from 0.88636 to 0.93182, saving model to CNN_aug_best_weights.h5\n",
      "Epoch 12/50\n",
      "8/8 [==============================] - 3s 313ms/step - loss: 0.2899 - accuracy: 0.8811 - val_loss: 0.1501 - val_accuracy: 0.9773\n",
      "\n",
      "Epoch 00012: val_accuracy improved from 0.93182 to 0.97727, saving model to CNN_aug_best_weights.h5\n",
      "Epoch 13/50\n",
      "8/8 [==============================] - 3s 305ms/step - loss: 0.2543 - accuracy: 0.9016 - val_loss: 0.2125 - val_accuracy: 0.9091\n",
      "\n",
      "Epoch 00013: val_accuracy did not improve from 0.97727\n",
      "Epoch 14/50\n",
      "8/8 [==============================] - 2s 306ms/step - loss: 0.2642 - accuracy: 0.8648 - val_loss: 0.1629 - val_accuracy: 1.0000\n",
      "\n",
      "Epoch 00014: val_accuracy improved from 0.97727 to 1.00000, saving model to CNN_aug_best_weights.h5\n",
      "Epoch 15/50\n",
      "8/8 [==============================] - 3s 304ms/step - loss: 0.2733 - accuracy: 0.8893 - val_loss: 0.1549 - val_accuracy: 1.0000\n",
      "\n",
      "Epoch 00015: val_accuracy did not improve from 1.00000\n",
      "Epoch 16/50\n",
      "8/8 [==============================] - 2s 304ms/step - loss: 0.2557 - accuracy: 0.9016 - val_loss: 0.2226 - val_accuracy: 0.9773\n",
      "\n",
      "Epoch 00016: val_accuracy did not improve from 1.00000\n",
      "Epoch 17/50\n",
      "8/8 [==============================] - 2s 317ms/step - loss: 0.2981 - accuracy: 0.8730 - val_loss: 0.2924 - val_accuracy: 0.9091\n",
      "\n",
      "Epoch 00017: val_accuracy did not improve from 1.00000\n",
      "Epoch 18/50\n",
      "8/8 [==============================] - 2s 305ms/step - loss: 0.2526 - accuracy: 0.9057 - val_loss: 0.0876 - val_accuracy: 0.9773\n",
      "\n",
      "Epoch 00018: val_accuracy did not improve from 1.00000\n",
      "Epoch 19/50\n",
      "8/8 [==============================] - 2s 304ms/step - loss: 0.2204 - accuracy: 0.9180 - val_loss: 0.1324 - val_accuracy: 1.0000\n",
      "\n",
      "Epoch 00019: val_accuracy did not improve from 1.00000\n",
      "Epoch 20/50\n",
      "8/8 [==============================] - 2s 304ms/step - loss: 0.1992 - accuracy: 0.9344 - val_loss: 0.1242 - val_accuracy: 0.9773\n",
      "\n",
      "Epoch 00020: val_accuracy did not improve from 1.00000\n",
      "Epoch 21/50\n",
      "8/8 [==============================] - 2s 308ms/step - loss: 0.1779 - accuracy: 0.9385 - val_loss: 0.1387 - val_accuracy: 0.9545\n",
      "\n",
      "Epoch 00021: val_accuracy did not improve from 1.00000\n",
      "Epoch 22/50\n",
      "8/8 [==============================] - 2s 308ms/step - loss: 0.2312 - accuracy: 0.8893 - val_loss: 0.0876 - val_accuracy: 0.9773\n",
      "\n",
      "Epoch 00022: val_accuracy did not improve from 1.00000\n",
      "Epoch 23/50\n",
      "8/8 [==============================] - 2s 305ms/step - loss: 0.3820 - accuracy: 0.8156 - val_loss: 0.4091 - val_accuracy: 0.8182\n",
      "\n",
      "Epoch 00023: val_accuracy did not improve from 1.00000\n",
      "Epoch 24/50\n",
      "8/8 [==============================] - 2s 304ms/step - loss: 0.3194 - accuracy: 0.8566 - val_loss: 0.1541 - val_accuracy: 0.9545\n",
      "\n",
      "Epoch 00024: val_accuracy did not improve from 1.00000\n",
      "Epoch 25/50\n",
      "8/8 [==============================] - 2s 305ms/step - loss: 0.2431 - accuracy: 0.8852 - val_loss: 0.1422 - val_accuracy: 0.9773\n",
      "\n",
      "Epoch 00025: val_accuracy did not improve from 1.00000\n",
      "Epoch 26/50\n",
      "8/8 [==============================] - 2s 304ms/step - loss: 0.2040 - accuracy: 0.9016 - val_loss: 0.1246 - val_accuracy: 1.0000\n",
      "\n",
      "Epoch 00026: val_accuracy did not improve from 1.00000\n",
      "Epoch 27/50\n",
      "8/8 [==============================] - 2s 317ms/step - loss: 0.1899 - accuracy: 0.9303 - val_loss: 0.1411 - val_accuracy: 0.9773\n",
      "\n",
      "Epoch 00027: val_accuracy did not improve from 1.00000\n",
      "Epoch 28/50\n",
      "8/8 [==============================] - 2s 306ms/step - loss: 0.1796 - accuracy: 0.9426 - val_loss: 0.1032 - val_accuracy: 1.0000\n",
      "\n",
      "Epoch 00028: val_accuracy did not improve from 1.00000\n",
      "Epoch 29/50\n",
      "8/8 [==============================] - 2s 308ms/step - loss: 0.1266 - accuracy: 0.9672 - val_loss: 0.0532 - val_accuracy: 1.0000\n",
      "\n",
      "Epoch 00029: val_accuracy did not improve from 1.00000\n",
      "Epoch 30/50\n",
      "8/8 [==============================] - 2s 307ms/step - loss: 0.1651 - accuracy: 0.9344 - val_loss: 0.0909 - val_accuracy: 0.9773\n",
      "\n",
      "Epoch 00030: val_accuracy did not improve from 1.00000\n",
      "Epoch 31/50\n",
      "8/8 [==============================] - 2s 306ms/step - loss: 0.1943 - accuracy: 0.9262 - val_loss: 0.1122 - val_accuracy: 0.9773\n",
      "\n",
      "Epoch 00031: val_accuracy did not improve from 1.00000\n",
      "Epoch 32/50\n",
      "8/8 [==============================] - 2s 309ms/step - loss: 0.2863 - accuracy: 0.8648 - val_loss: 0.2689 - val_accuracy: 0.8409\n",
      "\n",
      "Epoch 00032: val_accuracy did not improve from 1.00000\n",
      "Epoch 33/50\n",
      "8/8 [==============================] - 2s 308ms/step - loss: 0.2485 - accuracy: 0.8811 - val_loss: 0.0826 - val_accuracy: 0.9773\n",
      "\n",
      "Epoch 00033: val_accuracy did not improve from 1.00000\n",
      "Epoch 34/50\n",
      "8/8 [==============================] - 2s 316ms/step - loss: 0.2366 - accuracy: 0.9098 - val_loss: 0.1903 - val_accuracy: 0.9318\n",
      "\n",
      "Epoch 00034: val_accuracy did not improve from 1.00000\n",
      "Epoch 35/50\n",
      "8/8 [==============================] - 2s 309ms/step - loss: 0.2870 - accuracy: 0.8893 - val_loss: 0.1178 - val_accuracy: 0.9773\n",
      "\n",
      "Epoch 00035: val_accuracy did not improve from 1.00000\n",
      "Epoch 36/50\n",
      "8/8 [==============================] - 2s 320ms/step - loss: 0.1794 - accuracy: 0.9221 - val_loss: 0.0648 - val_accuracy: 1.0000\n",
      "\n",
      "Epoch 00036: val_accuracy did not improve from 1.00000\n",
      "Epoch 37/50\n",
      "8/8 [==============================] - 2s 307ms/step - loss: 0.1467 - accuracy: 0.9303 - val_loss: 0.0745 - val_accuracy: 0.9545\n",
      "\n",
      "Epoch 00037: val_accuracy did not improve from 1.00000\n",
      "Epoch 38/50\n",
      "8/8 [==============================] - 2s 318ms/step - loss: 0.1506 - accuracy: 0.9385 - val_loss: 0.0853 - val_accuracy: 0.9545\n",
      "\n",
      "Epoch 00038: val_accuracy did not improve from 1.00000\n",
      "Epoch 39/50\n",
      "8/8 [==============================] - 2s 307ms/step - loss: 0.1155 - accuracy: 0.9590 - val_loss: 0.0625 - val_accuracy: 0.9773\n",
      "\n",
      "Epoch 00039: val_accuracy did not improve from 1.00000\n",
      "Epoch 40/50\n",
      "8/8 [==============================] - 2s 309ms/step - loss: 0.1135 - accuracy: 0.9590 - val_loss: 0.1465 - val_accuracy: 0.9091\n",
      "\n",
      "Epoch 00040: val_accuracy did not improve from 1.00000\n",
      "Epoch 41/50\n"
     ]
    },
    {
     "name": "stdout",
     "output_type": "stream",
     "text": [
      "8/8 [==============================] - 2s 319ms/step - loss: 0.1438 - accuracy: 0.9467 - val_loss: 0.0883 - val_accuracy: 0.9773\n",
      "\n",
      "Epoch 00041: val_accuracy did not improve from 1.00000\n",
      "Epoch 42/50\n",
      "8/8 [==============================] - 2s 307ms/step - loss: 0.1818 - accuracy: 0.9303 - val_loss: 0.0469 - val_accuracy: 0.9773\n",
      "\n",
      "Epoch 00042: val_accuracy did not improve from 1.00000\n",
      "Epoch 43/50\n",
      "8/8 [==============================] - 2s 308ms/step - loss: 0.1755 - accuracy: 0.9344 - val_loss: 0.0702 - val_accuracy: 0.9773\n",
      "\n",
      "Epoch 00043: val_accuracy did not improve from 1.00000\n",
      "Epoch 44/50\n",
      "8/8 [==============================] - 2s 317ms/step - loss: 0.1504 - accuracy: 0.9467 - val_loss: 0.1910 - val_accuracy: 0.9318\n",
      "\n",
      "Epoch 00044: val_accuracy did not improve from 1.00000\n",
      "Epoch 45/50\n",
      "8/8 [==============================] - 2s 309ms/step - loss: 0.1399 - accuracy: 0.9426 - val_loss: 0.0551 - val_accuracy: 0.9773\n",
      "\n",
      "Epoch 00045: val_accuracy did not improve from 1.00000\n",
      "Epoch 46/50\n",
      "8/8 [==============================] - 2s 309ms/step - loss: 0.1238 - accuracy: 0.9508 - val_loss: 0.0656 - val_accuracy: 1.0000\n",
      "\n",
      "Epoch 00046: val_accuracy did not improve from 1.00000\n",
      "Epoch 47/50\n",
      "8/8 [==============================] - 3s 313ms/step - loss: 0.1312 - accuracy: 0.9385 - val_loss: 0.1084 - val_accuracy: 0.9545\n",
      "\n",
      "Epoch 00047: val_accuracy did not improve from 1.00000\n",
      "Epoch 48/50\n",
      "8/8 [==============================] - 2s 307ms/step - loss: 0.0992 - accuracy: 0.9672 - val_loss: 0.0253 - val_accuracy: 1.0000\n",
      "\n",
      "Epoch 00048: val_accuracy did not improve from 1.00000\n",
      "Epoch 49/50\n",
      "8/8 [==============================] - 2s 307ms/step - loss: 0.1118 - accuracy: 0.9672 - val_loss: 0.0316 - val_accuracy: 1.0000\n",
      "\n",
      "Epoch 00049: val_accuracy did not improve from 1.00000\n",
      "Epoch 50/50\n",
      "8/8 [==============================] - 2s 309ms/step - loss: 0.0907 - accuracy: 0.9754 - val_loss: 0.0598 - val_accuracy: 0.9773\n",
      "\n",
      "Epoch 00050: val_accuracy did not improve from 1.00000\n"
     ]
    }
   ],
   "source": [
    "#Proses training sekalius membuat histori untuk melihat progress akurasi disetiap epoch/iterasi\n",
    "history = model.fit_generator(train_generator,\n",
    "                              epochs=50,\n",
    "                              verbose=1,\n",
    "                              validation_data=validation_generator,\n",
    "                              callbacks = [best_model]\n",
    "                              )"
   ]
  },
  {
   "cell_type": "code",
   "execution_count": 19,
   "id": "3be60885",
   "metadata": {},
   "outputs": [
    {
     "data": {
      "image/png": "[encoded data removed]",
      "text/plain": [
       "<Figure size 1008x504 with 1 Axes>"
      ]
     },
     "metadata": {
      "needs_background": "light"
     },
     "output_type": "display_data"
    }
   ],
   "source": [
    "#Ploting histori proses training\n",
    "acc=history.history['accuracy']\n",
    "val_acc=history.history['val_accuracy']\n",
    "loss=history.history['loss']\n",
    "val_loss=history.history['val_loss']\n",
    "\n",
    "epochs=range(len(acc))\n",
    "\n",
    "fig = plt.figure(figsize=(14,7))\n",
    "plt.plot(epochs, acc, 'r', label=\"Akurasi Training\")\n",
    "plt.plot(epochs, val_acc, 'b', label=\"Akurasi Validasi\")\n",
    "plt.xlabel('Epoch')\n",
    "plt.ylabel('Akurasi')\n",
    "plt.title('Akurasi Training dan validasi')\n",
    "plt.legend(loc='lower right')\n",
    "plt.show()"
   ]
  },
  {
   "cell_type": "code",
   "execution_count": 20,
   "id": "e1aa890f",
   "metadata": {},
   "outputs": [
    {
     "data": {
      "text/plain": [
       "Text(0.5, 1.0, 'Loss Training dan validasi')"
      ]
     },
     "execution_count": 20,
     "metadata": {},
     "output_type": "execute_result"
    },
    {
     "data": {
      "image/png": "[encoded data removed]",
      "text/plain": [
       "<Figure size 1008x504 with 1 Axes>"
      ]
     },
     "metadata": {
      "needs_background": "light"
     },
     "output_type": "display_data"
    }
   ],
   "source": [
    "#Ploting histori proses validasi\n",
    "fig2 = plt.figure(figsize=(14,7))\n",
    "plt.plot(epochs, loss, 'r', label=\"Loss Training\")\n",
    "plt.plot(epochs, val_loss, 'b', label=\"Loss Validasi\")\n",
    "plt.legend(loc='upper right')\n",
    "plt.xlabel('Epoch')\n",
    "plt.ylabel('Loss')\n",
    "plt.title('Loss Training dan validasi')"
   ]
  },
  {
   "cell_type": "code",
   "execution_count": 21,
   "id": "619cec3f",
   "metadata": {},
   "outputs": [
    {
     "name": "stderr",
     "output_type": "stream",
     "text": [
      "Using TensorFlow backend.\n"
     ]
    }
   ],
   "source": [
    "## Test Performance on Test Data\n",
    "import pandas as pd\n",
    "import numpy as np\n",
    "from keras.preprocessing.image import load_img, img_to_array\n",
    "\n",
    "def preprocess_image(path):\n",
    "    img = load_img(path, target_size = (img_height, img_width))\n",
    "    a = img_to_array(img)\n",
    "    a = np.expand_dims(a, axis = 0)\n",
    "    a /= 255.\n",
    "    return a"
   ]
  },
  {
   "cell_type": "markdown",
   "id": "71fd1e33",
   "metadata": {},
   "source": [
    "# Menguji performa dengan data test"
   ]
  },
  {
   "cell_type": "code",
   "execution_count": 22,
   "id": "14afb57e",
   "metadata": {},
   "outputs": [],
   "source": [
    "# Membaca gambar test dan labelnya\n",
    "test_images_dir = 'test/'\n",
    "test_df = pd.read_csv('dataset/test.csv')\n",
    "\n",
    "# Meletakkan gambar test pada list\n",
    "test_dfToList = test_df['Image_id'].tolist()\n",
    "test_ids = [str(item) for item in test_dfToList]\n",
    "\n",
    "test_images = [test_images_dir+item for item in test_ids]\n",
    "test_preprocessed_images = np.vstack([preprocess_image(fn) for fn in test_images])\n",
    "np.save('test_preproc_CNN.npy', test_preprocessed_images)"
   ]
  },
  {
   "cell_type": "code",
   "execution_count": 23,
   "id": "194f5fdb",
   "metadata": {},
   "outputs": [
    {
     "data": {
      "text/html": [
       "<div>\n",
       "<style scoped>\n",
       "    .dataframe tbody tr th:only-of-type {\n",
       "        vertical-align: middle;\n",
       "    }\n",
       "\n",
       "    .dataframe tbody tr th {\n",
       "        vertical-align: top;\n",
       "    }\n",
       "\n",
       "    .dataframe thead th {\n",
       "        text-align: right;\n",
       "    }\n",
       "</style>\n",
       "<table border=\"1\" class=\"dataframe\">\n",
       "  <thead>\n",
       "    <tr style=\"text-align: right;\">\n",
       "      <th></th>\n",
       "      <th>Image_id</th>\n",
       "      <th>labels</th>\n",
       "    </tr>\n",
       "  </thead>\n",
       "  <tbody>\n",
       "    <tr>\n",
       "      <th>0</th>\n",
       "      <td>malam1.jpg</td>\n",
       "      <td>0</td>\n",
       "    </tr>\n",
       "    <tr>\n",
       "      <th>1</th>\n",
       "      <td>malam2.jpg</td>\n",
       "      <td>0</td>\n",
       "    </tr>\n",
       "    <tr>\n",
       "      <th>2</th>\n",
       "      <td>malam3.jpg</td>\n",
       "      <td>0</td>\n",
       "    </tr>\n",
       "    <tr>\n",
       "      <th>3</th>\n",
       "      <td>malam4.jpg</td>\n",
       "      <td>0</td>\n",
       "    </tr>\n",
       "    <tr>\n",
       "      <th>4</th>\n",
       "      <td>malam5.jpg</td>\n",
       "      <td>0</td>\n",
       "    </tr>\n",
       "    <tr>\n",
       "      <th>5</th>\n",
       "      <td>malam6.jpg</td>\n",
       "      <td>0</td>\n",
       "    </tr>\n",
       "    <tr>\n",
       "      <th>6</th>\n",
       "      <td>malam7.jpg</td>\n",
       "      <td>0</td>\n",
       "    </tr>\n",
       "    <tr>\n",
       "      <th>7</th>\n",
       "      <td>malam8.jpg</td>\n",
       "      <td>0</td>\n",
       "    </tr>\n",
       "    <tr>\n",
       "      <th>8</th>\n",
       "      <td>pagi1.jpg</td>\n",
       "      <td>1</td>\n",
       "    </tr>\n",
       "    <tr>\n",
       "      <th>9</th>\n",
       "      <td>pagi2.jpg</td>\n",
       "      <td>1</td>\n",
       "    </tr>\n",
       "    <tr>\n",
       "      <th>10</th>\n",
       "      <td>pagi3.jpg</td>\n",
       "      <td>1</td>\n",
       "    </tr>\n",
       "    <tr>\n",
       "      <th>11</th>\n",
       "      <td>Pagi4.jpg</td>\n",
       "      <td>1</td>\n",
       "    </tr>\n",
       "    <tr>\n",
       "      <th>12</th>\n",
       "      <td>pagi5.jpg</td>\n",
       "      <td>1</td>\n",
       "    </tr>\n",
       "    <tr>\n",
       "      <th>13</th>\n",
       "      <td>pagi6.jpg</td>\n",
       "      <td>1</td>\n",
       "    </tr>\n",
       "    <tr>\n",
       "      <th>14</th>\n",
       "      <td>pagi7.jpg</td>\n",
       "      <td>1</td>\n",
       "    </tr>\n",
       "    <tr>\n",
       "      <th>15</th>\n",
       "      <td>pagi8.jpg</td>\n",
       "      <td>1</td>\n",
       "    </tr>\n",
       "  </tbody>\n",
       "</table>\n",
       "</div>"
      ],
      "text/plain": [
       "      Image_id  labels\n",
       "0   malam1.jpg       0\n",
       "1   malam2.jpg       0\n",
       "2   malam3.jpg       0\n",
       "3   malam4.jpg       0\n",
       "4   malam5.jpg       0\n",
       "5   malam6.jpg       0\n",
       "6   malam7.jpg       0\n",
       "7   malam8.jpg       0\n",
       "8    pagi1.jpg       1\n",
       "9    pagi2.jpg       1\n",
       "10   pagi3.jpg       1\n",
       "11   Pagi4.jpg       1\n",
       "12   pagi5.jpg       1\n",
       "13   pagi6.jpg       1\n",
       "14   pagi7.jpg       1\n",
       "15   pagi8.jpg       1"
      ]
     },
     "execution_count": 23,
     "metadata": {},
     "output_type": "execute_result"
    }
   ],
   "source": [
    "test_df"
   ]
  },
  {
   "cell_type": "code",
   "execution_count": 24,
   "id": "ccf4664b",
   "metadata": {},
   "outputs": [
    {
     "name": "stdout",
     "output_type": "stream",
     "text": [
      "16/16 [==============================] - 1s 11ms/step\n",
      "[0 0 0 0 0 0 0 0 1 1 1 1 1 1 1 1]\n"
     ]
    }
   ],
   "source": [
    "# Prediksi gambar tes\n",
    "array = model.predict(test_preprocessed_images, batch_size=1, verbose=1)\n",
    "answer = np.argmax(array, axis=1)\n",
    "print(answer)"
   ]
  },
  {
   "cell_type": "code",
   "execution_count": 25,
   "id": "2ca5fde7",
   "metadata": {},
   "outputs": [
    {
     "name": "stdout",
     "output_type": "stream",
     "text": [
      "0     0\n",
      "1     0\n",
      "2     0\n",
      "3     0\n",
      "4     0\n",
      "5     0\n",
      "6     0\n",
      "7     0\n",
      "8     1\n",
      "9     1\n",
      "10    1\n",
      "11    1\n",
      "12    1\n",
      "13    1\n",
      "14    1\n",
      "15    1\n",
      "Name: labels, dtype: int64\n"
     ]
    }
   ],
   "source": [
    "# Menyimpan label ke dalam array untuk dibuat confusion matriks\n",
    "y_true = test_df['labels']\n",
    "y_pred = array\n",
    "print(y_true)"
   ]
  },
  {
   "cell_type": "code",
   "execution_count": 26,
   "id": "eabde04b",
   "metadata": {},
   "outputs": [],
   "source": [
    "# Membuat confusion matriks sederhana\n",
    "from sklearn.metrics import log_loss\n",
    "loss = log_loss(y_true, y_pred, eps=1e-15, normalize=True, sample_weight=None, labels=None)"
   ]
  },
  {
   "cell_type": "code",
   "execution_count": 27,
   "id": "ca7d0487",
   "metadata": {},
   "outputs": [
    {
     "data": {
      "text/plain": [
       "array([[8, 0],\n",
       "       [0, 8]], dtype=int64)"
      ]
     },
     "execution_count": 27,
     "metadata": {},
     "output_type": "execute_result"
    }
   ],
   "source": [
    "from sklearn.metrics import confusion_matrix\n",
    "conf_mat = confusion_matrix(y_true, answer)\n",
    "conf_mat"
   ]
  },
  {
   "cell_type": "code",
   "execution_count": 28,
   "id": "fac14f43",
   "metadata": {},
   "outputs": [],
   "source": [
    "train_dir = 'data-fajar/train/'\n",
    "classes = os.listdir(train_dir)"
   ]
  },
  {
   "cell_type": "code",
   "execution_count": 29,
   "id": "f9fb5fb6",
   "metadata": {},
   "outputs": [],
   "source": [
    "# Fungsi untuk memploting confusion matriks secara grafis\n",
    "import itertools\n",
    "def plot_confusion_matrix(cm, classes,\n",
    "                          normalize=False,\n",
    "                          title='Confusion matrix',\n",
    "                          cmap=plt.cm.Reds):\n",
    "\n",
    "    plt.imshow(cm, interpolation='nearest', cmap=cmap)\n",
    "    plt.title(title)\n",
    "    plt.colorbar()\n",
    "    tick_marks = np.arange(len(classes))\n",
    "    plt.xticks(tick_marks, classes, rotation=45)\n",
    "    plt.yticks(tick_marks, classes)\n",
    "\n",
    "    if normalize:\n",
    "        cm = cm.astype('float') / cm.sum(axis=1)[:, np.newaxis]\n",
    "        cm = cm.round(2)\n",
    "        #print(\"Normalized confusion matrix\")\n",
    "    else:\n",
    "        cm=cm\n",
    "        #print('Confusion matrix, without normalization')\n",
    "\n",
    "    #print(cm)\n",
    "\n",
    "    thresh = cm.max() / 2.\n",
    "    for i, j in itertools.product(range(cm.shape[0]), range(cm.shape[1])):\n",
    "        plt.text(j, i, cm[i, j],\n",
    "                 horizontalalignment=\"center\",\n",
    "                 color=\"white\" if cm[i, j] > thresh else \"black\")\n",
    "\n",
    "    plt.tight_layout()\n",
    "    plt.ylabel('True label')\n",
    "    plt.xlabel('Predicted label')"
   ]
  },
  {
   "cell_type": "code",
   "execution_count": 30,
   "id": "59734620",
   "metadata": {},
   "outputs": [
    {
     "data": {
      "image/png": "[encoded data removed]",
      "text/plain": [
       "<Figure size 504x432 with 2 Axes>"
      ]
     },
     "metadata": {
      "needs_background": "light"
     },
     "output_type": "display_data"
    }
   ],
   "source": [
    "# Ploting confusion matriks\n",
    "np.set_printoptions(precision=2)\n",
    "fig1 = plt.figure(figsize=(7,6))\n",
    "plot_confusion_matrix(conf_mat, classes=classes, title='Confusion matrix')\n",
    "plt.show()"
   ]
  },
  {
   "cell_type": "code",
   "execution_count": null,
   "id": "138fd3b8",
   "metadata": {},
   "outputs": [],
   "source": []
  }
 ],
 "metadata": {
  "kernelspec": {
   "display_name": "Python 3.8 (Tensorflow 2.5)",
   "language": "python",
   "name": "gpu"
  },
  "language_info": {
   "codemirror_mode": {
    "name": "ipython",
    "version": 3
   },
   "file_extension": ".py",
   "mimetype": "text/x-python",
   "name": "python",
   "nbconvert_exporter": "python",
   "pygments_lexer": "ipython3",
   "version": "3.9.7"
  }
 },
 "nbformat": 4,
 "nbformat_minor": 5
}
