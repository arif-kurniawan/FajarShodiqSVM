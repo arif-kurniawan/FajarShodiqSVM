{
 "cells": [
  {
   "cell_type": "markdown",
   "id": "44d7900e",
   "metadata": {},
   "source": [
    "# Fungsi untuk edit foto dari kamera DSLR (6000x4000)"
   ]
  },
  {
   "cell_type": "code",
   "execution_count": 1,
   "id": "3de1c46e",
   "metadata": {},
   "outputs": [],
   "source": [
    "from PIL import Image, ImageEnhance                                            \n",
    "import os, sys                                                           \n",
    "\n",
    "def proses(source, result): #deklarasi fungsi proses dengan parameter lokasi gambar asli dan lokasi hasil edit\n",
    "    dirs = os.listdir(source) \n",
    "    for item in dirs: #perulangan sebanyak file gambar yang ada dalam folder\n",
    "        if os.path.isfile(source+item):\n",
    "            im = Image.open(source+item)\n",
    "            f, e = os.path.splitext(result+item)\n",
    "            imResize = im.resize((600,400), Image.ANTIALIAS) #resize jadi 600x400\n",
    "            enhancer = ImageEnhance.Contrast(imResize)\n",
    "            imContrast = enhancer.enhance(2) #menambah kontras 100%\n",
    "            enhancer = ImageEnhance.Brightness(imContrast)\n",
    "            imBright = enhancer.enhance(2) #menambah kecerahan 100%\n",
    "            imCrop = imBright.crop((172, 202, 300, 330)) #melakukan crop pada bagian gambar yang mewakili pendeteksian fajar\n",
    "            imCrop.save(f+'.jpg') #menyimpan hasil edit"
   ]
  },
  {
   "cell_type": "code",
   "execution_count": 2,
   "id": "e14bb19b",
   "metadata": {},
   "outputs": [],
   "source": [
    "#Pemanggilan fungsi dengan memasukkan parameter lokasi gambar sumber dan lokasi hasil edit"
   ]
  },
  {
   "cell_type": "code",
   "execution_count": 2,
   "id": "04fd49e1",
   "metadata": {},
   "outputs": [
    {
     "name": "stderr",
     "output_type": "stream",
     "text": [
      "/tmp/ipykernel_6989/73734481.py:10: DeprecationWarning: ANTIALIAS is deprecated and will be removed in Pillow 10 (2023-07-01). Use Resampling.LANCZOS instead.\n",
      "  imResize = im.resize((600,400), Image.ANTIALIAS) #resize jadi 600x400\n"
     ]
    }
   ],
   "source": [
    "proses(\"DataTestingFajar/sama-dengan-atau-diatas-15/\",\"DataTestingFajar/antara-20-16/crop/\")"
   ]
  },
  {
   "cell_type": "code",
   "execution_count": 4,
   "id": "90f26f13",
   "metadata": {},
   "outputs": [],
   "source": [
    "proses(\"gambar/pagi/\",\"edited/pagi/\")"
   ]
  }
 ],
 "metadata": {
  "kernelspec": {
   "display_name": "Python 3.9.13 ('gpu')",
   "language": "python",
   "name": "python3"
  },
  "language_info": {
   "codemirror_mode": {
    "name": "ipython",
    "version": 3
   },
   "file_extension": ".py",
   "mimetype": "text/x-python",
   "name": "python",
   "nbconvert_exporter": "python",
   "pygments_lexer": "ipython3",
   "version": "3.9.13"
  },
  "vscode": {
   "interpreter": {
    "hash": "066cb4723f49e5794ab907980798068422f997681e65c97af2035577de0aa533"
   }
  }
 },
 "nbformat": 4,
 "nbformat_minor": 5
}
